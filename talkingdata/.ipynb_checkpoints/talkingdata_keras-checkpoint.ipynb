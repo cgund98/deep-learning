{
 "cells": [
  {
   "cell_type": "markdown",
   "metadata": {
    "heading_collapsed": true
   },
   "source": [
    "# Imports"
   ]
  },
  {
   "cell_type": "code",
   "execution_count": 1,
   "metadata": {
    "hidden": true
   },
   "outputs": [
    {
     "name": "stderr",
     "output_type": "stream",
     "text": [
      "/home/callum/anaconda2/envs/dl/lib/python3.6/site-packages/h5py/__init__.py:36: FutureWarning: Conversion of the second argument of issubdtype from `float` to `np.floating` is deprecated. In future, it will be treated as `np.float64 == np.dtype(float).type`.\n",
      "  from ._conv import register_converters as _register_converters\n",
      "Using TensorFlow backend.\n"
     ]
    }
   ],
   "source": [
    "import keras\n",
    "from keras.models import Sequential, Model\n",
    "from keras.layers import BatchNormalization, Input, Embedding, SpatialDropout1D, concatenate, Merge\n",
    "from keras.layers.core import Flatten, Dense, Dropout, Lambda\n",
    "from keras.optimizers import Adam\n",
    "import numpy as np\n",
    "import pandas as pd\n",
    "import gc\n",
    "import os\n",
    "os.environ['OMP_NUM_THREADS'] = '4'"
   ]
  },
  {
   "cell_type": "code",
   "execution_count": 2,
   "metadata": {
    "hidden": true
   },
   "outputs": [],
   "source": [
    "# Set the path of the data\n",
    "# PATH = \"~/.kaggle/competitions/talkingdata-adtracking-fraud-detection\"\n",
    "PATH = \"../data/talkingdata\"\n",
    "SCRATCH_PATH = \"/scratch/brown/g1082124/talkingdata\""
   ]
  },
  {
   "cell_type": "code",
   "execution_count": 3,
   "metadata": {
    "hidden": true
   },
   "outputs": [],
   "source": [
    "# Import dataset\n",
    "#train = pd.read_csv(PATH + \"/train_1_4.csv\")\n",
    "train = None"
   ]
  },
  {
   "cell_type": "markdown",
   "metadata": {
    "heading_collapsed": true
   },
   "source": [
    "# Preprocessing"
   ]
  },
  {
   "cell_type": "code",
   "execution_count": 4,
   "metadata": {
    "hidden": true
   },
   "outputs": [],
   "source": [
    "#train.head()"
   ]
  },
  {
   "cell_type": "code",
   "execution_count": 5,
   "metadata": {
    "hidden": true
   },
   "outputs": [],
   "source": [
    "cat_vars = [\"app\", \"device\", \"os\", \"channel\", \"hour\", \"day\", \"wday\"]"
   ]
  },
  {
   "cell_type": "code",
   "execution_count": 6,
   "metadata": {
    "hidden": true
   },
   "outputs": [],
   "source": [
    "# Method for getting data in a format that keras can work worth\n",
    "def getKerasData(dataset):\n",
    "    X = {\n",
    "        'app': np.array(dataset.app),\n",
    "        #'ip': np.array(dataset.ip),\n",
    "        'device': np.array(dataset.device),\n",
    "        'os': np.array(dataset.os),\n",
    "        'channel': np.array(dataset.channel),\n",
    "        'hour': np.array(dataset.hour),\n",
    "        'day': np.array(dataset.day),\n",
    "        'wday': np.array(dataset.wday),\n",
    "        'qty': np.array(dataset.wday),\n",
    "        'ip_app_count': np.array(dataset.ip_app_count),\n",
    "        'ip_app_os_count': np.array(dataset.ip_app_os_count),\n",
    "    }\n",
    "    return X"
   ]
  },
  {
   "cell_type": "code",
   "execution_count": 7,
   "metadata": {
    "hidden": true
   },
   "outputs": [],
   "source": [
    "# Method for changing the train dataset, e.g. changing which quarter of the set to use\n",
    "def changeDataset(fname):\n",
    "    #del train#, X_train, y_train, X_valid, y_valid; gc.collect()\n",
    "    global X_train, y_train, X_valid, y_valid, idx_split\n",
    "    train = pd.read_csv(PATH + \"/\" + fname)\n",
    "    \n",
    "    idx_split = int(len(train) * .75)\n",
    "\n",
    "    X_train = getKerasData(train.iloc[:idx_split])\n",
    "    y_train = train[\"is_attributed\"].iloc[:idx_split].values\n",
    "\n",
    "    X_valid = getKerasData(train.iloc[idx_split:])\n",
    "    y_valid = train[\"is_attributed\"].iloc[idx_split:].values\n",
    "    gc.collect()\n",
    "    "
   ]
  },
  {
   "cell_type": "code",
   "execution_count": 36,
   "metadata": {
    "hidden": true
   },
   "outputs": [],
   "source": [
    "changeDataset('train_1_4.csv')"
   ]
  },
  {
   "cell_type": "markdown",
   "metadata": {},
   "source": [
    "# On to the Model"
   ]
  },
  {
   "cell_type": "markdown",
   "metadata": {
    "heading_collapsed": true
   },
   "source": [
    "### Setup Model"
   ]
  },
  {
   "cell_type": "code",
   "execution_count": 9,
   "metadata": {
    "hidden": true
   },
   "outputs": [],
   "source": [
    "# Get Nums of Unique Values (max value + 1)\n",
    "#max_ip = 333168\n",
    "max_app = 730\n",
    "max_device = 3799\n",
    "max_os = 856\n",
    "max_channel = 202\n",
    "max_hour = 24\n",
    "max_day = 5\n",
    "max_wday = 5\n",
    "max_qty = 44260\n",
    "max_c1 = 220744\n"
   ]
  },
  {
   "cell_type": "code",
   "execution_count": 10,
   "metadata": {
    "hidden": true
   },
   "outputs": [],
   "source": [
    "# Define the inputs and embedding layers\n",
    "emb_szs = emb_n = 50\n",
    "dense_szs = 1024\n",
    "\n",
    "in_app = Input(shape=[1], name=\"app\")\n",
    "emb_app = Embedding(max_app, emb_szs)(in_app)\n",
    "#in_ip = Input(shape=[1], name=\"ip\")\n",
    "#emb_ip = Embedding(max_ip, emb_szs)(in_ip)\n",
    "in_device = Input(shape=[1], name=\"device\")\n",
    "emb_device = Embedding(max_device, emb_szs)(in_device)\n",
    "in_os = Input(shape=[1], name=\"os\")\n",
    "emb_os = Embedding(max_os, emb_szs)(in_os)\n",
    "in_channel = Input(shape=[1], name=\"channel\")\n",
    "emb_channel = Embedding(max_channel, emb_szs)(in_channel)\n",
    "in_hour = Input(shape=[1], name=\"hour\")\n",
    "emb_hour = Embedding(max_hour, emb_szs)(in_hour)\n",
    "in_day = Input(shape=[1], name=\"day\")\n",
    "emb_day = Embedding(max_day, emb_szs)(in_day)\n",
    "in_wday = Input(shape=[1], name=\"wday\")\n",
    "emb_wday = Embedding(max_wday, emb_szs)(in_wday)\n",
    "in_qty = Input(shape=[1], name=\"qty\")\n",
    "emb_qty = Embedding(max_qty, emb_szs)(in_qty)\n",
    "in_c1 = Input(shape=[1], name=\"ip_app_count\")\n",
    "emb_c1 = Embedding(max_c1, emb_szs)(in_c1)\n",
    "in_c2 = Input(shape=[1], name=\"ip_app_os_count\")\n",
    "emb_c2 = Embedding(max_c1, emb_szs)(in_c2)\n",
    "\n",
    "#embs = concatenate([(emb_app), (emb_ip), (emb_device), (emb_os), (emb_channel)])\n",
    "embs = concatenate([(emb_app), (emb_device), (emb_os), (emb_channel), (emb_hour),\n",
    "                   (emb_day), (emb_wday), (emb_qty), (emb_c1), (emb_c2)])\n",
    "\n",
    "# Now turn those into dense layers\n",
    "s_dout = SpatialDropout1D(0.5)(embs)\n",
    "x = Flatten()(s_dout)\n",
    "x = Dropout(0.5)(Dense(dense_szs, activation=\"relu\")(x))\n",
    "x = BatchNormalization()(x)\n",
    "x = Dropout(0.5)(Dense(dense_szs, activation=\"relu\")(x))\n",
    "x = BatchNormalization()(x)\n",
    "output = Dense(1, activation=\"sigmoid\")(x)\n",
    "\n",
    "#model = Model(inputs=[in_app,in_channel,in_device,in_os,in_ip], outputs=output)\n",
    "model = Model(inputs=[in_app,in_channel,in_device,in_os,in_hour,\n",
    "                     in_day,in_wday,in_qty,in_c1,in_c2], outputs=output)"
   ]
  },
  {
   "cell_type": "code",
   "execution_count": 22,
   "metadata": {
    "hidden": true
   },
   "outputs": [],
   "source": [
    "# Learning Rate Decay\n",
    "bs = 50000\n",
    "epochs = 3\n",
    "exp_decay = lambda init, fin, steps: (init/fin)**(1/(steps-1)) - 1\n",
    "steps = int(idx_split / bs) * epochs\n",
    "lr_init, lr_fin = 0.0008, 0.0001\n",
    "lr_decay = exp_decay(lr_init, lr_fin, steps)\n",
    "optimizer_adam = Adam(lr=0.0008, decay=lr_decay)"
   ]
  },
  {
   "cell_type": "code",
   "execution_count": 23,
   "metadata": {
    "hidden": true
   },
   "outputs": [],
   "source": [
    "model.compile(loss='binary_crossentropy',optimizer=optimizer_adam,metrics=['accuracy'])"
   ]
  },
  {
   "cell_type": "code",
   "execution_count": 24,
   "metadata": {
    "hidden": true
   },
   "outputs": [],
   "source": [
    "#model.summary()\n",
    "model.load_weights('../models/talkingdata_2epoch.h5')"
   ]
  },
  {
   "cell_type": "markdown",
   "metadata": {
    "heading_collapsed": true
   },
   "source": [
    "### ROC Callback"
   ]
  },
  {
   "cell_type": "code",
   "execution_count": 14,
   "metadata": {
    "hidden": true
   },
   "outputs": [],
   "source": [
    "# ROC Curve\n",
    "from sklearn.metrics import roc_auc_score\n",
    "class roc_callback(keras.callbacks.Callback):\n",
    "    def __init__(self,training_data,validation_data):\n",
    "        self.x = training_data[0]\n",
    "        self.y = training_data[1]\n",
    "        self.x_val = validation_data[0]\n",
    "        self.y_val = validation_data[1]\n",
    "\n",
    "\n",
    "    def on_train_begin(self, logs={}):\n",
    "        return\n",
    "\n",
    "    def on_train_end(self, logs={}):\n",
    "        return\n",
    "\n",
    "    def on_epoch_begin(self, epoch, logs={}):\n",
    "        return\n",
    "\n",
    "    def on_epoch_end(self, epoch, logs={}):\n",
    "        y_pred = self.model.predict(self.x, batch_size=bs, verbose=2)\n",
    "        roc = roc_auc_score(self.y, y_pred)\n",
    "        #roc = 1\n",
    "        y_pred_val = self.model.predict(self.x_val, batch_size=bs, verbose=2)\n",
    "        roc_val = roc_auc_score(self.y_val, y_pred_val)\n",
    "        print('\\rroc-auc: %s - roc-auc_val: %s' % (str(round(roc,4)),str(round(roc_val,4))),end=100*' '+'\\n')\n",
    "        return\n",
    "\n",
    "    def on_batch_begin(self, batch, logs={}):\n",
    "        return\n",
    "\n",
    "    def on_batch_end(self, batch, logs={}):\n",
    "        return\n",
    "callbacks=[roc_callback(training_data=(X_train, y_train),validation_data=(X_valid, y_valid))]"
   ]
  },
  {
   "cell_type": "markdown",
   "metadata": {},
   "source": [
    "### Model Training"
   ]
  },
  {
   "cell_type": "code",
   "execution_count": 25,
   "metadata": {},
   "outputs": [],
   "source": [
    "#About .02% of the dataset is positive, class weights make up for that\n",
    "#class_weight = {0:.0002,1:.9998}\n",
    "class_weight = {0: .003, 1:.997}"
   ]
  },
  {
   "cell_type": "code",
   "execution_count": 26,
   "metadata": {},
   "outputs": [
    {
     "name": "stdout",
     "output_type": "stream",
     "text": [
      "Working on split 1\n",
      "Train on 34669479 samples, validate on 11556493 samples\n",
      "Epoch 1/3\n",
      "34669479/34669479 [==============================] - 319s 9us/step - loss: 0.0010 - acc: 0.9626 - val_loss: 0.1585 - val_acc: 0.9598\n",
      "roc-auc: 0.9783 - roc-auc_val: 0.9739                                                                                                    \n",
      "Epoch 2/3\n",
      "34669479/34669479 [==============================] - 317s 9us/step - loss: 0.0010 - acc: 0.9618 - val_loss: 0.1480 - val_acc: 0.9644\n",
      "roc-auc: 0.9798 - roc-auc_val: 0.9727                                                                                                    \n",
      "Epoch 3/3\n",
      "34669479/34669479 [==============================] - 316s 9us/step - loss: 9.8770e-04 - acc: 0.9612 - val_loss: 0.1418 - val_acc: 0.9676\n",
      "roc-auc: 0.9807 - roc-auc_val: 0.9729                                                                                                    \n",
      "Working on split 2\n",
      "Train on 34669479 samples, validate on 11556494 samples\n",
      "Epoch 1/3\n",
      "34669479/34669479 [==============================] - 317s 9us/step - loss: 9.0540e-04 - acc: 0.9709 - val_loss: 0.1252 - val_acc: 0.9707\n",
      "roc-auc: 0.978 - roc-auc_val: 0.9752                                                                                                    \n",
      "Epoch 2/3\n",
      "34669479/34669479 [==============================] - 317s 9us/step - loss: 8.8074e-04 - acc: 0.9699 - val_loss: 0.1296 - val_acc: 0.9696\n",
      "roc-auc: 0.9773 - roc-auc_val: 0.9751                                                                                                    \n",
      "Epoch 3/3\n",
      "34669479/34669479 [==============================] - 316s 9us/step - loss: 8.6967e-04 - acc: 0.9696 - val_loss: 0.1226 - val_acc: 0.9699\n",
      "roc-auc: 0.9768 - roc-auc_val: 0.9748                                                                                                    \n",
      "Working on split 4\n",
      "Train on 34669479 samples, validate on 11556494 samples\n",
      "Epoch 1/3\n",
      "34669479/34669479 [==============================] - 318s 9us/step - loss: 0.0012 - acc: 0.9617 - val_loss: 0.1025 - val_acc: 0.9813\n",
      "roc-auc: 0.9766 - roc-auc_val: 0.9753                                                                                                    \n",
      "Epoch 2/3\n",
      "34669479/34669479 [==============================] - 317s 9us/step - loss: 0.0012 - acc: 0.9622 - val_loss: 0.1004 - val_acc: 0.9815\n",
      "roc-auc: 0.976 - roc-auc_val: 0.9751                                                                                                    \n",
      "Epoch 3/3\n",
      "34669479/34669479 [==============================] - 317s 9us/step - loss: 0.0012 - acc: 0.9617 - val_loss: 0.1046 - val_acc: 0.9802\n",
      "roc-auc: 0.9759 - roc-auc_val: 0.9749                                                                                                    \n",
      "Working on split 3\n",
      "Train on 34669479 samples, validate on 11556493 samples\n",
      "Epoch 1/3\n",
      "34669479/34669479 [==============================] - 318s 9us/step - loss: 8.7841e-04 - acc: 0.9769 - val_loss: 0.1315 - val_acc: 0.9692\n",
      "roc-auc: 0.9758 - roc-auc_val: 0.9752                                                                                                    \n",
      "Epoch 2/3\n",
      "34669479/34669479 [==============================] - 318s 9us/step - loss: 8.6981e-04 - acc: 0.9770 - val_loss: 0.1250 - val_acc: 0.9707\n",
      "roc-auc: 0.9756 - roc-auc_val: 0.9752                                                                                                    \n",
      "Epoch 3/3\n",
      "34669479/34669479 [==============================] - 316s 9us/step - loss: 8.6197e-04 - acc: 0.9767 - val_loss: 0.1284 - val_acc: 0.9689\n",
      "roc-auc: 0.9755 - roc-auc_val: 0.9752                                                                                                    \n"
     ]
    }
   ],
   "source": [
    "from random import shuffle\n",
    "l = list(range(1, 5))\n",
    "shuffle(l)\n",
    "for n in l:\n",
    "    print('Working on split {}'.format(n))\n",
    "    changeDataset('train_{}_4.csv'.format(n))\n",
    "    model.fit(X_train, y_train, batch_size=bs, validation_data=(X_valid, y_valid), epochs=epochs,\n",
    "          class_weight=class_weight, callbacks=callbacks)\n",
    "#model.save_weights('../models/talkingdata_9epoch.h5')"
   ]
  },
  {
   "cell_type": "code",
   "execution_count": 27,
   "metadata": {},
   "outputs": [],
   "source": [
    "model.save(\"../models/talkingdata_3epoch.h5\")"
   ]
  },
  {
   "cell_type": "markdown",
   "metadata": {
    "collapsed": true
   },
   "source": [
    "# Model Evaluation"
   ]
  },
  {
   "cell_type": "markdown",
   "metadata": {
    "heading_collapsed": true
   },
   "source": [
    "### Confusion Matrix Visualization Method"
   ]
  },
  {
   "cell_type": "code",
   "execution_count": 40,
   "metadata": {
    "hidden": true
   },
   "outputs": [],
   "source": [
    "import matplotlib.pyplot as plt\n",
    "import itertools\n",
    "def plot_confusion_matrix(cm, classes,\n",
    "                          normalize=False,\n",
    "                          title='Confusion matrix',\n",
    "                          cmap=plt.cm.Blues):\n",
    "    \"\"\"\n",
    "    This function prints and plots the confusion matrix.\n",
    "    Normalization can be applied by setting `normalize=True`.\n",
    "    \"\"\"\n",
    "    if normalize:\n",
    "        cm = cm.astype('float') / cm.sum(axis=1)[:, np.newaxis]\n",
    "        print(\"Normalized confusion matrix\")\n",
    "    else:\n",
    "        print('Confusion matrix, without normalization')\n",
    "\n",
    "    print(cm)\n",
    "\n",
    "    plt.imshow(cm, interpolation='nearest', cmap=cmap)\n",
    "    plt.title(title)\n",
    "    plt.colorbar()\n",
    "    tick_marks = np.arange(len(classes))\n",
    "    plt.xticks(tick_marks, classes, rotation=45)\n",
    "    plt.yticks(tick_marks, classes)\n",
    "\n",
    "    fmt = '.2f' if normalize else 'd'\n",
    "    thresh = cm.max() / 2.\n",
    "    for i, j in itertools.product(range(cm.shape[0]), range(cm.shape[1])):\n",
    "        plt.text(j, i, format(cm[i, j], fmt),\n",
    "                 horizontalalignment=\"center\",\n",
    "                 color=\"white\" if cm[i, j] > thresh else \"black\")\n",
    "\n",
    "    plt.tight_layout()\n",
    "    plt.ylabel('True label')\n",
    "    plt.xlabel('Predicted label')"
   ]
  },
  {
   "cell_type": "markdown",
   "metadata": {
    "heading_collapsed": true
   },
   "source": [
    "### Find Confusion Matrix"
   ]
  },
  {
   "cell_type": "code",
   "execution_count": 37,
   "metadata": {
    "hidden": true
   },
   "outputs": [
    {
     "name": "stdout",
     "output_type": "stream",
     "text": [
      "0.9751588005216886\n"
     ]
    }
   ],
   "source": [
    "# test = train.iloc[int(len(train)*.75):]\n",
    "# print(len(test))\n",
    "# X_test = getKerasData(test)\n",
    "# y_test = test[\"is_attributed\"].values\n",
    "# y_pred = model.predict(X_test, batch_size=bs, verbose=2)\n",
    "y_pred = model.predict(X_valid, batch_size=bs, verbose=2)\n",
    "roc = roc_auc_score(y_valid, y_pred)\n",
    "print(roc)"
   ]
  },
  {
   "cell_type": "code",
   "execution_count": 38,
   "metadata": {
    "hidden": true
   },
   "outputs": [],
   "source": [
    "from sklearn.metrics import confusion_matrix\n",
    "cm = confusion_matrix(y_valid, np.round(y_pred))"
   ]
  },
  {
   "cell_type": "code",
   "execution_count": 41,
   "metadata": {
    "hidden": true
   },
   "outputs": [
    {
     "name": "stdout",
     "output_type": "stream",
     "text": [
      "Normalized confusion matrix\n",
      "[[0.96869435 0.03130565]\n",
      " [0.09971107 0.90028893]]\n"
     ]
    },
    {
     "data": {
      "image/png": "[encoded data removed]",
      "text/plain": [
       "<Figure size 432x288 with 2 Axes>"
      ]
     },
     "metadata": {},
     "output_type": "display_data"
    }
   ],
   "source": [
    "plot_confusion_matrix(cm, [\"nope\", \"yeet\"], normalize=True)"
   ]
  },
  {
   "cell_type": "markdown",
   "metadata": {},
   "source": [
    "# Generate Submission"
   ]
  },
  {
   "cell_type": "code",
   "execution_count": 28,
   "metadata": {},
   "outputs": [],
   "source": [
    "import gc\n",
    "del train, X_train, X_valid, y_train, y_valid; gc.collect()\n",
    "test = pd.read_csv(PATH + \"/test_proc.csv\")"
   ]
  },
  {
   "cell_type": "code",
   "execution_count": 29,
   "metadata": {},
   "outputs": [],
   "source": [
    "submit = pd.DataFrame()\n",
    "submit['click_id'] = test['click_id'].astype('int')"
   ]
  },
  {
   "cell_type": "code",
   "execution_count": 30,
   "metadata": {},
   "outputs": [],
   "source": [
    "X_test = getKerasData(test)"
   ]
  },
  {
   "cell_type": "code",
   "execution_count": 31,
   "metadata": {},
   "outputs": [],
   "source": [
    "submit['is_attributed'] = model.predict(X_test, batch_size=bs, verbose=2)"
   ]
  },
  {
   "cell_type": "code",
   "execution_count": 32,
   "metadata": {},
   "outputs": [
    {
     "data": {
      "text/html": [
       "<div>\n",
       "<style scoped>\n",
       "    .dataframe tbody tr th:only-of-type {\n",
       "        vertical-align: middle;\n",
       "    }\n",
       "\n",
       "    .dataframe tbody tr th {\n",
       "        vertical-align: top;\n",
       "    }\n",
       "\n",
       "    .dataframe thead th {\n",
       "        text-align: right;\n",
       "    }\n",
       "</style>\n",
       "<table border=\"1\" class=\"dataframe\">\n",
       "  <thead>\n",
       "    <tr style=\"text-align: right;\">\n",
       "      <th></th>\n",
       "      <th>click_id</th>\n",
       "      <th>is_attributed</th>\n",
       "    </tr>\n",
       "  </thead>\n",
       "  <tbody>\n",
       "    <tr>\n",
       "      <th>0</th>\n",
       "      <td>0</td>\n",
       "      <td>0.131356</td>\n",
       "    </tr>\n",
       "    <tr>\n",
       "      <th>1</th>\n",
       "      <td>1</td>\n",
       "      <td>0.124460</td>\n",
       "    </tr>\n",
       "    <tr>\n",
       "      <th>2</th>\n",
       "      <td>2</td>\n",
       "      <td>0.043473</td>\n",
       "    </tr>\n",
       "    <tr>\n",
       "      <th>3</th>\n",
       "      <td>3</td>\n",
       "      <td>0.056921</td>\n",
       "    </tr>\n",
       "    <tr>\n",
       "      <th>4</th>\n",
       "      <td>4</td>\n",
       "      <td>0.036069</td>\n",
       "    </tr>\n",
       "  </tbody>\n",
       "</table>\n",
       "</div>"
      ],
      "text/plain": [
       "   click_id  is_attributed\n",
       "0         0       0.131356\n",
       "1         1       0.124460\n",
       "2         2       0.043473\n",
       "3         3       0.056921\n",
       "4         4       0.036069"
      ]
     },
     "execution_count": 32,
     "metadata": {},
     "output_type": "execute_result"
    }
   ],
   "source": [
    "submit.head()"
   ]
  },
  {
   "cell_type": "code",
   "execution_count": 34,
   "metadata": {},
   "outputs": [],
   "source": [
    "submit.to_csv('submits/talkingdata_2epoch_submit.csv', index=False)"
   ]
  },
  {
   "cell_type": "code",
   "execution_count": null,
   "metadata": {},
   "outputs": [],
   "source": []
  }
 ],
 "metadata": {
  "kernelspec": {
   "display_name": "Python DL",
   "language": "python",
   "name": "dl"
  },
  "language_info": {
   "codemirror_mode": {
    "name": "ipython",
    "version": 3
   },
   "file_extension": ".py",
   "mimetype": "text/x-python",
   "name": "python",
   "nbconvert_exporter": "python",
   "pygments_lexer": "ipython3",
   "version": "3.6.4"
  }
 },
 "nbformat": 4,
 "nbformat_minor": 2
}
