{
  "nbformat": 4,
  "nbformat_minor": 0,
  "metadata": {
    "colab": {
      "name": "mnist_torch updated.ipynb",
      "version": "0.3.2",
      "views": {},
      "default_view": {},
      "provenance": [],
      "collapsed_sections": [
        "iPqQ08k2NQNk",
        "SZORBt8J1Pz0",
        "G98Dx3AN1P0M",
        "Jf1Avk391P0m",
        "aI7aBi0P1P1g"
      ]
    },
    "kernelspec": {
      "display_name": "Python 3",
      "language": "python",
      "name": "python3"
    },
    "accelerator": "GPU"
  },
  "cells": [
    {
      "metadata": {
        "id": "iPqQ08k2NQNk",
        "colab_type": "text"
      },
      "cell_type": "markdown",
      "source": [
        "## Google Colabs Setup"
      ]
    },
    {
      "metadata": {
        "id": "nYlsg0gmc6Pv",
        "colab_type": "code",
        "colab": {
          "autoexec": {
            "startup": false,
            "wait_interval": 0
          }
        }
      },
      "cell_type": "code",
      "source": [
        "# http://pytorch.org/\n",
        "from os import path\n",
        "from wheel.pep425tags import get_abbr_impl, get_impl_ver, get_abi_tag\n",
        "platform = '{}{}-{}'.format(get_abbr_impl(), get_impl_ver(), get_abi_tag())\n",
        "\n",
        "accelerator = 'cu80'\n",
        "\n",
        "#!pip uninstall torch -y\n",
        "!pip install -q http://download.pytorch.org/whl/{accelerator}/torch-0.3.0.post4-{platform}-linux_x86_64.whl torchvision\n",
        "import torch"
      ],
      "execution_count": 0,
      "outputs": []
    },
    {
      "metadata": {
        "id": "9JZNfW-YegiL",
        "colab_type": "code",
        "colab": {
          "autoexec": {
            "startup": false,
            "wait_interval": 0
          }
        }
      },
      "cell_type": "code",
      "source": [
        "import torch.nn as nn\n",
        "import torch.nn.functional as F\n",
        "import torch.optim as optim\n",
        "from torchvision import datasets, transforms\n",
        "from torch.autograd import Variable\n",
        "from torch.utils.data import DataLoader\n",
        "from torch.utils.data.dataset import Dataset\n",
        "import numpy as np\n",
        "import pandas as pd"
      ],
      "execution_count": 0,
      "outputs": []
    },
    {
      "metadata": {
        "id": "ciGOuz_rgvoP",
        "colab_type": "code",
        "colab": {
          "autoexec": {
            "startup": false,
            "wait_interval": 0
          },
          "output_extras": [
            {
              "item_id": 1
            }
          ],
          "base_uri": "https://localhost:8080/",
          "height": 34
        },
        "outputId": "453579f4-5f12-4f4b-945b-aab82dc4b54a",
        "executionInfo": {
          "status": "ok",
          "timestamp": 1521489430166,
          "user_tz": 240,
          "elapsed": 390,
          "user": {
            "displayName": "Callum Gundlach",
            "photoUrl": "//lh4.googleusercontent.com/-ddSUHiKuWXE/AAAAAAAAAAI/AAAAAAAADSU/f_x5SrpmNxM/s50-c-k-no/photo.jpg",
            "userId": "117278917912521040961"
          }
        }
      },
      "cell_type": "code",
      "source": [
        "torch.cuda.is_available()"
      ],
      "execution_count": 3,
      "outputs": [
        {
          "output_type": "execute_result",
          "data": {
            "text/plain": [
              "True"
            ]
          },
          "metadata": {
            "tags": []
          },
          "execution_count": 3
        }
      ]
    },
    {
      "metadata": {
        "id": "SZORBt8J1Pz0",
        "colab_type": "text"
      },
      "cell_type": "markdown",
      "source": [
        "## Import Torch Data"
      ]
    },
    {
      "metadata": {
        "id": "4qGfWVQ11Pz2",
        "colab_type": "code",
        "colab": {
          "autoexec": {
            "startup": false,
            "wait_interval": 0
          }
        }
      },
      "cell_type": "code",
      "source": [
        "import random\n",
        "from math import floor\n",
        "\n",
        "def train_valid_split(dataset, test_size = 0.25, shuffle = False, random_seed = 0):\n",
        "    \"\"\" Return a list of splitted indices from a DataSet.\n",
        "    Indices can be used with DataLoader to build a train and validation set.\n",
        "    \n",
        "    Arguments:\n",
        "        A Dataset\n",
        "        A test_size, as a float between 0 and 1 (percentage split) or as an int (fixed number split)\n",
        "        Shuffling True or False\n",
        "        Random seed\n",
        "    \"\"\"\n",
        "    length = dataset.__len__()\n",
        "    indices = list(range(1,length))\n",
        "    \n",
        "    if shuffle == True:\n",
        "        random.seed(random_seed)\n",
        "        random.shuffle(indices)\n",
        "    \n",
        "    if type(test_size) is float:\n",
        "        split = floor(test_size * length)\n",
        "    elif type(test_size) is int:\n",
        "        split = test_size\n",
        "    else:\n",
        "        raise ValueError('%s should be an int or a float' % str)\n",
        "    return indices[split:], indices[:split]"
      ],
      "execution_count": 0,
      "outputs": []
    },
    {
      "metadata": {
        "id": "H-N72DVDdObm",
        "colab_type": "code",
        "colab": {
          "autoexec": {
            "startup": false,
            "wait_interval": 0
          },
          "output_extras": [
            {
              "item_id": 4
            }
          ],
          "base_uri": "https://localhost:8080/",
          "height": 121
        },
        "outputId": "421359bd-aff5-48bd-e21d-7c0cb21c96bc",
        "executionInfo": {
          "status": "ok",
          "timestamp": 1521489468604,
          "user_tz": 240,
          "elapsed": 28282,
          "user": {
            "displayName": "Callum Gundlach",
            "photoUrl": "//lh4.googleusercontent.com/-ddSUHiKuWXE/AAAAAAAAAAI/AAAAAAAADSU/f_x5SrpmNxM/s50-c-k-no/photo.jpg",
            "userId": "117278917912521040961"
          }
        }
      },
      "cell_type": "code",
      "source": [
        "# dtype = torch.cuda.FloatTensor\n",
        "dtype = torch.FloatTensor\n",
        "bs = 64\n",
        "\n",
        "train_transforms = transform=transforms.Compose([\n",
        "                       transforms.ToTensor(),\n",
        "                       transforms.Normalize((0.1307,), (0.3081,))\n",
        "                   ])\n",
        "\n",
        "train_data = datasets.MNIST('../data/mnist', train=True, download=True,\n",
        "                  transform=train_transforms)\n",
        "\n",
        "valid_data = datasets.MNIST('../data/mnist', train=True, download=True,\n",
        "                  transform=train_transforms)\n",
        "\n",
        "test_data = datasets.MNIST('../data/mnist', train=False, download=True,\n",
        "                  transform=train_transforms)"
      ],
      "execution_count": 5,
      "outputs": [
        {
          "output_type": "stream",
          "text": [
            "Downloading http://yann.lecun.com/exdb/mnist/train-images-idx3-ubyte.gz\n",
            "Downloading http://yann.lecun.com/exdb/mnist/train-labels-idx1-ubyte.gz\n",
            "Downloading http://yann.lecun.com/exdb/mnist/t10k-images-idx3-ubyte.gz\n",
            "Downloading http://yann.lecun.com/exdb/mnist/t10k-labels-idx1-ubyte.gz\n",
            "Processing...\n",
            "Done!\n"
          ],
          "name": "stdout"
        }
      ]
    },
    {
      "metadata": {
        "id": "reWD77xu1P0A",
        "colab_type": "code",
        "colab": {
          "autoexec": {
            "startup": false,
            "wait_interval": 0
          }
        }
      },
      "cell_type": "code",
      "source": [
        "from torch.utils.data.sampler import SubsetRandomSampler\n",
        "\n",
        "train_idx, valid_idx = train_valid_split(train_data, shuffle=True)\n",
        "train_sampler = SubsetRandomSampler(train_idx)\n",
        "valid_sampler = SubsetRandomSampler(valid_idx)"
      ],
      "execution_count": 0,
      "outputs": []
    },
    {
      "metadata": {
        "id": "iUmQrgH41P0G",
        "colab_type": "code",
        "colab": {
          "autoexec": {
            "startup": false,
            "wait_interval": 0
          }
        }
      },
      "cell_type": "code",
      "source": [
        "kwargs = {'num_workers': 1, 'pin_memory': True}\n",
        "bs=64\n",
        "# train_loader = torch.utils.data.DataLoader(train_dataset, \n",
        "#                                         batch_size=bs, sampler=train_sampler, **kwargs)\n",
        "train_loader2 = DataLoader(train_data,\n",
        "        batch_size=bs, sampler=train_sampler, **kwargs)\n",
        "\n",
        "valid_loader2 = DataLoader(valid_data,\n",
        "        batch_size=bs, sampler=valid_sampler, **kwargs)\n",
        "\n",
        "test_loader2 = DataLoader(train_data,\n",
        "        batch_size=bs, **kwargs)"
      ],
      "execution_count": 0,
      "outputs": []
    },
    {
      "metadata": {
        "id": "G98Dx3AN1P0M",
        "colab_type": "text"
      },
      "cell_type": "markdown",
      "source": [
        "## Import Kaggle Data"
      ]
    },
    {
      "metadata": {
        "id": "FBq4iBnb1P0Q",
        "colab_type": "code",
        "colab": {
          "autoexec": {
            "startup": false,
            "wait_interval": 0
          }
        }
      },
      "cell_type": "code",
      "source": [
        "from sklearn.model_selection import train_test_split\n",
        "\n",
        "#dtype = torch.cuda.FloatTensor\n",
        "dtype = torch.FloatTensor\n",
        "\n",
        "class DigitDataset(Dataset):\n",
        "    \n",
        "    def __init__(self, csv_path, dtype, mode):\n",
        "        train_data = pd.read_csv(csv_path)\n",
        "        self.dtype = dtype\n",
        "        self.mode = mode\n",
        "        if(mode == \"train\" or mode == \"val\"):\n",
        "            labels = train_data.label.values.astype(\"int\")\n",
        "            pixels = train_data.drop('label', axis=1).values.astype('float32')\n",
        "            X_train, X_valid, y_train, y_valid = train_test_split(pixels,\n",
        "                                                                  labels, shuffle=False,\n",
        "                                                                  test_size=0.001)\n",
        "            self.N = X_train.shape[0]\n",
        "            self.V = X_valid.shape[0]\n",
        "            self.X_train = X_train.reshape([self.N, 1, 28, 28])\n",
        "            self.y_train = y_train.reshape([self.N, 1])\n",
        "            self.X_valid = X_valid.reshape([self.V, 1, 28, 28])\n",
        "            self.y_valid = y_valid.reshape([self.V, 1])\n",
        "#             print(y_train.shape, y_valid.shape)\n",
        "        if(mode == \"test\"):\n",
        "            test_data = pd.read_csv(csv_path)\n",
        "            pixels = test_data.values.astype(\"int\")\n",
        "            self.T = test_data.shape[0]\n",
        "            self.X_test = pixels.reshape([self.T, 1, 28, 28])\n",
        "            \n",
        "    def __getitem__(self, index):\n",
        "        if (self.mode == \"train\" or self.mode == \"val\"):\n",
        "            label = torch.from_numpy(self.y_train[index]).type(self.dtype)\n",
        "            img = torch.from_numpy(self.X_train[index]).type(self.dtype)\n",
        "            return img, label\n",
        "        \n",
        "#         if (self.mode == \"val\"):\n",
        "#             label = torch.from_numpy(self.y_train[index]).type(self.dtype)\n",
        "#             img = torch.from_numpy(self.X_train[index]).type(self.dtype)\n",
        "#             return img, label\n",
        "        \n",
        "        if (self.mode == \"test\"):\n",
        "            img = torch.from_numpy(self.X_test[index]).type(self.dtype)\n",
        "            return img, 0\n",
        "    \n",
        "    def __len__(self):\n",
        "        if (self.mode == \"train\"):\n",
        "            return self.N\n",
        "        \n",
        "        if (self.mode == \"val\"):\n",
        "            return self.V\n",
        "        \n",
        "        if (self.mode == \"test\"):\n",
        "            return self.T\n",
        "        "
      ],
      "execution_count": 0,
      "outputs": []
    },
    {
      "metadata": {
        "id": "fdXMscM14ig8",
        "colab_type": "code",
        "colab": {
          "autoexec": {
            "startup": false,
            "wait_interval": 0
          },
          "output_extras": [
            {
              "item_id": 1
            },
            {
              "item_id": 2
            },
            {
              "item_id": 3
            }
          ],
          "resources": {
            "http://localhost:8080/nbextensions/google.colab/files.js": {
              "data": "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",
              "ok": true,
              "headers": [
                [
                  "content-type",
                  "application/javascript"
                ]
              ],
              "status": 200,
              "status_text": ""
            }
          },
          "base_uri": "https://localhost:8080/",
          "height": 157
        },
        "outputId": "2d00b517-5029-4307-e15d-91a61faae07d",
        "executionInfo": {
          "status": "ok",
          "timestamp": 1521490817492,
          "user_tz": 240,
          "elapsed": 12645,
          "user": {
            "displayName": "Callum Gundlach",
            "photoUrl": "//lh4.googleusercontent.com/-ddSUHiKuWXE/AAAAAAAAAAI/AAAAAAAADSU/f_x5SrpmNxM/s50-c-k-no/photo.jpg",
            "userId": "117278917912521040961"
          }
        }
      },
      "cell_type": "code",
      "source": [
        "!pip install kaggle\n",
        "\n",
        "from google.colab import files\n",
        "\n",
        "uploaded = files.upload()"
      ],
      "execution_count": 40,
      "outputs": [
        {
          "output_type": "stream",
          "text": [
            "Requirement already satisfied: kaggle in /usr/local/lib/python3.6/dist-packages\r\n",
            "Requirement already satisfied: six>=1.10 in /usr/local/lib/python3.6/dist-packages (from kaggle)\r\n",
            "Requirement already satisfied: python-dateutil in /usr/local/lib/python3.6/dist-packages (from kaggle)\r\n",
            "Requirement already satisfied: urllib3>=1.15 in /usr/local/lib/python3.6/dist-packages (from kaggle)\r\n",
            "Requirement already satisfied: certifi in /usr/local/lib/python3.6/dist-packages (from kaggle)\r\n"
          ],
          "name": "stdout"
        },
        {
          "output_type": "display_data",
          "data": {
            "text/html": [
              "\n",
              "     <input type=\"file\" id=\"files-bba9fb60-0b13-432f-b312-2a56ae159f9f\" name=\"files[]\" multiple disabled />\n",
              "     <output id=\"result-bba9fb60-0b13-432f-b312-2a56ae159f9f\">\n",
              "      Upload widget is only available when the cell has been executed in the\n",
              "      current browser session. Please rerun this cell to enable.\n",
              "      </output>\n",
              "      <script src=\"/nbextensions/google.colab/files.js\"></script> "
            ],
            "text/plain": [
              "<IPython.core.display.HTML object>"
            ]
          },
          "metadata": {
            "tags": []
          }
        },
        {
          "output_type": "stream",
          "text": [
            "Saving kaggle.json to kaggle.json\n"
          ],
          "name": "stdout"
        }
      ]
    },
    {
      "metadata": {
        "id": "aVN3A3Ar5Zag",
        "colab_type": "code",
        "colab": {
          "autoexec": {
            "startup": false,
            "wait_interval": 0
          },
          "output_extras": [
            {
              "item_id": 5
            }
          ],
          "base_uri": "https://localhost:8080/",
          "height": 68
        },
        "outputId": "02a8d348-2990-46c5-b5e2-5ef783e62b65",
        "executionInfo": {
          "status": "ok",
          "timestamp": 1521490940077,
          "user_tz": 240,
          "elapsed": 117784,
          "user": {
            "displayName": "Callum Gundlach",
            "photoUrl": "//lh4.googleusercontent.com/-ddSUHiKuWXE/AAAAAAAAAAI/AAAAAAAADSU/f_x5SrpmNxM/s50-c-k-no/photo.jpg",
            "userId": "117278917912521040961"
          }
        }
      },
      "cell_type": "code",
      "source": [
        "!mv kaggle.json .kaggle\n",
        "!chmod 600 .kaggle/kaggle.json\n",
        "!kaggle competitions download -c digit-recognizer"
      ],
      "execution_count": 41,
      "outputs": [
        {
          "output_type": "stream",
          "text": [
            "train.csv: Downloaded 73MB of 73MB\n",
            "test.csv: Downloaded 49MB of 49MB\n",
            "sample_submission.csv: Downloaded 235KB of 235KB\n"
          ],
          "name": "stdout"
        }
      ]
    },
    {
      "metadata": {
        "id": "MeDlX__-1P0W",
        "colab_type": "code",
        "colab": {
          "autoexec": {
            "startup": false,
            "wait_interval": 0
          },
          "output_extras": [
            {
              "item_id": 1
            }
          ],
          "base_uri": "https://localhost:8080/",
          "height": 34
        },
        "outputId": "716852ee-5e05-4245-abbf-8d4a75a0d774",
        "executionInfo": {
          "status": "ok",
          "timestamp": 1521491073526,
          "user_tz": 240,
          "elapsed": 14972,
          "user": {
            "displayName": "Callum Gundlach",
            "photoUrl": "//lh4.googleusercontent.com/-ddSUHiKuWXE/AAAAAAAAAAI/AAAAAAAADSU/f_x5SrpmNxM/s50-c-k-no/photo.jpg",
            "userId": "117278917912521040961"
          }
        }
      },
      "cell_type": "code",
      "source": [
        "PATH=\"/content/.kaggle/competitions/digit-recognizer/\"\n",
        "\n",
        "kaggle_train_data = DigitDataset(PATH+\"train.csv\", dtype, \"train\")\n",
        "kaggle_valid_data = DigitDataset(PATH+\"train.csv\", dtype, \"train\")\n",
        "kaggle_test_data = DigitDataset(PATH+\"test.csv\", dtype, \"test\")\n",
        "\n",
        "print(len(kaggle_valid_data))"
      ],
      "execution_count": 45,
      "outputs": [
        {
          "output_type": "stream",
          "text": [
            "41958\n"
          ],
          "name": "stdout"
        }
      ]
    },
    {
      "metadata": {
        "id": "gL-CqT-f3nV6",
        "colab_type": "code",
        "colab": {
          "autoexec": {
            "startup": false,
            "wait_interval": 0
          }
        }
      },
      "cell_type": "code",
      "source": [
        "kaggle_train_idx, kaggle_valid_idx = train_valid_split(kaggle_train_data, shuffle=True)\n",
        "kaggle_train_sampler = SubsetRandomSampler(kaggle_train_idx)\n",
        "kaggle_valid_sampler = SubsetRandomSampler(kaggle_valid_idx)"
      ],
      "execution_count": 0,
      "outputs": []
    },
    {
      "metadata": {
        "id": "aN2XCuRs1P0i",
        "colab_type": "code",
        "colab": {
          "autoexec": {
            "startup": false,
            "wait_interval": 0
          }
        }
      },
      "cell_type": "code",
      "source": [
        "bs = 64\n",
        "\n",
        "train_transforms = transform=transforms.Compose([\n",
        "                       transforms.ToPILImage(),\n",
        "                       transforms.RandomRotation(20),\n",
        "                       transforms.ToTensor(),\n",
        "                       transforms.Normalize((0.1307,), (0.3081,)),\n",
        "                       \n",
        "])\n",
        "\n",
        "kwargs = {'num_workers': 1, 'pin_memory': True}\n",
        "\n",
        "train_loader = DataLoader(kaggle_train_data, sampler=kaggle_train_sampler,\n",
        "        batch_size=bs, **kwargs)\n",
        "\n",
        "valid_loader = DataLoader(kaggle_valid_data, sampler=kaggle_valid_sampler,\n",
        "        batch_size=bs, **kwargs)\n",
        "\n",
        "test_loader = DataLoader(kaggle_test_data,\n",
        "        batch_size=bs, **kwargs)"
      ],
      "execution_count": 0,
      "outputs": []
    },
    {
      "metadata": {
        "id": "Jf1Avk391P0m",
        "colab_type": "text"
      },
      "cell_type": "markdown",
      "source": [
        "## Set up Model"
      ]
    },
    {
      "metadata": {
        "id": "_C2AVufcgRxb",
        "colab_type": "code",
        "colab": {
          "autoexec": {
            "startup": false,
            "wait_interval": 0
          }
        }
      },
      "cell_type": "code",
      "source": [
        "class Flatten(nn.Module):\n",
        "    def forward(self, x):\n",
        "        N, C, H, W = x.size()\n",
        "        return x.view(-1, 320)\n",
        "\n",
        "class SimpleConv(nn.Module):\n",
        "    def __init__(self):\n",
        "        super(SimpleConv, self).__init__()\n",
        "        self.conv1 = nn.Conv2d(1, 32, kernel_size=3)\n",
        "        self.conv1_bn = nn.BatchNorm2d(32)\n",
        "        self.conv2 = nn.Conv2d(32, 32, kernel_size=3)\n",
        "        self.conv2_bn = nn.BatchNorm2d(32)\n",
        "        self.conv2_drop = nn.Dropout2d()\n",
        "        self.conv3 = nn.Conv2d(32, 64, kernel_size=3)\n",
        "        self.conv3_bn = nn.BatchNorm2d(64)\n",
        "        self.conv4 = nn.Conv2d(64, 64, kernel_size=3)\n",
        "        self.conv4_bn = nn.BatchNorm2d(64)\n",
        "        self.conv4_drop = nn.Dropout2d()\n",
        "        self.dense1 = nn.Linear(4096, 512)\n",
        "        self.dense1_bn = nn.BatchNorm1d(512)\n",
        "        self.dense2 = nn.Linear(512, 512)\n",
        "        self.dense2_bn = nn.BatchNorm1d(512)\n",
        "        self.dense3 = nn.Linear(512, 10)\n",
        "    \n",
        "    def forward(self, x):\n",
        "        x = F.relu(self.conv1_bn(self.conv1(x)))\n",
        "        x = F.relu(F.max_pool2d(self.conv2_bn(self.conv2_drop(self.conv2(x))), 2))\n",
        "        x = F.relu(self.conv3_bn(self.conv3(x)))\n",
        "        x = F.relu(self.conv4_bn(self.conv4_drop(self.conv4(x))))\n",
        "        x = x.view(x.size(0), -1)\n",
        "        x = F.relu(self.dense1_bn(F.dropout(self.dense1(x), training=self.training)))\n",
        "        x = F.relu(self.dense2_bn(F.dropout(self.dense2(x), training=self.training)))\n",
        "        x = self.dense3(x)\n",
        "#         print(x.size())\n",
        "        return F.log_softmax(x, dim=1)\n",
        "    \n",
        "#   def train(self, x, y, optimizer, epochs)"
      ],
      "execution_count": 0,
      "outputs": []
    },
    {
      "metadata": {
        "id": "lPxFrOd-1P0u",
        "colab_type": "code",
        "colab": {
          "autoexec": {
            "startup": false,
            "wait_interval": 0
          }
        }
      },
      "cell_type": "code",
      "source": [
        "class Net(nn.Module):\n",
        "    def __init__(self):\n",
        "        super(Net, self).__init__()\n",
        "        self.conv1 = nn.Conv2d(1, 10, kernel_size=5)\n",
        "        self.conv2 = nn.Conv2d(10, 20, kernel_size=5)\n",
        "        self.conv2_drop = nn.Dropout2d()\n",
        "        self.fc1 = nn.Linear(320, 50)\n",
        "        self.fc2 = nn.Linear(50, 10)\n",
        "\n",
        "    def forward(self, x):\n",
        "        x = F.relu(F.max_pool2d(self.conv1(x), 2))\n",
        "        x = F.relu(F.max_pool2d(self.conv2_drop(self.conv2(x)), 2))\n",
        "        x = x.view(-1, 320)\n",
        "        x = F.relu(self.fc1(x))\n",
        "        x = F.dropout(x, training=self.training)\n",
        "        x = self.fc2(x)\n",
        "        return F.log_softmax(x, dim=1)\n",
        "\n"
      ],
      "execution_count": 0,
      "outputs": []
    },
    {
      "metadata": {
        "id": "JXZN42JwmImd",
        "colab_type": "code",
        "colab": {
          "autoexec": {
            "startup": false,
            "wait_interval": 0
          },
          "output_extras": [
            {
              "item_id": 1
            }
          ],
          "base_uri": "https://localhost:8080/",
          "height": 306
        },
        "outputId": "3b5c9211-58eb-4642-c035-85349170e596",
        "executionInfo": {
          "status": "ok",
          "timestamp": 1521494105591,
          "user_tz": 240,
          "elapsed": 314,
          "user": {
            "displayName": "Callum Gundlach",
            "photoUrl": "//lh4.googleusercontent.com/-ddSUHiKuWXE/AAAAAAAAAAI/AAAAAAAADSU/f_x5SrpmNxM/s50-c-k-no/photo.jpg",
            "userId": "117278917912521040961"
          }
        }
      },
      "cell_type": "code",
      "source": [
        "# model = simpleConv()\n",
        "model = SimpleConv()\n",
        "model.cuda()"
      ],
      "execution_count": 80,
      "outputs": [
        {
          "output_type": "execute_result",
          "data": {
            "text/plain": [
              "SimpleConv(\n",
              "  (conv1): Conv2d (1, 32, kernel_size=(3, 3), stride=(1, 1))\n",
              "  (conv1_bn): BatchNorm2d(32, eps=1e-05, momentum=0.1, affine=True)\n",
              "  (conv2): Conv2d (32, 32, kernel_size=(3, 3), stride=(1, 1))\n",
              "  (conv2_bn): BatchNorm2d(32, eps=1e-05, momentum=0.1, affine=True)\n",
              "  (conv2_drop): Dropout2d(p=0.5)\n",
              "  (conv3): Conv2d (32, 64, kernel_size=(3, 3), stride=(1, 1))\n",
              "  (conv3_bn): BatchNorm2d(64, eps=1e-05, momentum=0.1, affine=True)\n",
              "  (conv4): Conv2d (64, 64, kernel_size=(3, 3), stride=(1, 1))\n",
              "  (conv4_bn): BatchNorm2d(64, eps=1e-05, momentum=0.1, affine=True)\n",
              "  (conv4_drop): Dropout2d(p=0.5)\n",
              "  (dense1): Linear(in_features=4096, out_features=512)\n",
              "  (dense1_bn): BatchNorm1d(512, eps=1e-05, momentum=0.1, affine=True)\n",
              "  (dense2): Linear(in_features=512, out_features=512)\n",
              "  (dense2_bn): BatchNorm1d(512, eps=1e-05, momentum=0.1, affine=True)\n",
              "  (dense3): Linear(in_features=512, out_features=10)\n",
              ")"
            ]
          },
          "metadata": {
            "tags": []
          },
          "execution_count": 80
        }
      ]
    },
    {
      "metadata": {
        "id": "gPPgwoSwmNJc",
        "colab_type": "code",
        "colab": {
          "autoexec": {
            "startup": false,
            "wait_interval": 0
          }
        }
      },
      "cell_type": "code",
      "source": [
        "optimizer = optim.Adam(model.parameters(), lr=.003)\n",
        "exp_lr_scheduler = optim.lr_scheduler.StepLR(optimizer, step_size=7, gamma=0.1)\n",
        "criterion = nn.CrossEntropyLoss()\n",
        "\n",
        "def train(epochs=1):\n",
        "    for epoch in range(epochs):\n",
        "        model.train()\n",
        "        \n",
        "        exp_lr_scheduler.step()\n",
        "        \n",
        "        for batch_idx, (data, target) in enumerate(train_loader):\n",
        "            data = Variable(data.cuda())\n",
        "            target = Variable(target.cuda()).type(torch.cuda.LongTensor).view(len(target))\n",
        "            optimizer.zero_grad()\n",
        "            pred = model(data)\n",
        "#             if batch_idx == 0: print(target, pred)\n",
        "            loss = criterion(pred, target)\n",
        "            loss.backward()\n",
        "            optimizer.step()\n",
        "      \n",
        "            log_interval = 200\n",
        "            if batch_idx % log_interval == 0:\n",
        "                print('Train Epoch: {} [{}/{} ({:.0f}%)]\\tLoss: {:.6f}'.format(\n",
        "                    epoch+1, batch_idx * len(data), len(train_loader.dataset),\n",
        "                    100. * batch_idx / len(train_loader), loss.data[0]))\n",
        "\n",
        "def eval(data_loader):\n",
        "  running_val_loss = 0\n",
        "  running_val_correct = 0\n",
        "  num_elements = 0\n",
        "  \n",
        "  model.eval()\n",
        "  for batch_idx, (data, target) in enumerate(data_loader):\n",
        "      data = Variable(data.cuda())\n",
        "      target = Variable(target.cuda()).type(torch.cuda.LongTensor).view(len(target))\n",
        "      pred = model(data)\n",
        "      _, pred_max = torch.max(pred.data, 1)\n",
        "\n",
        "      loss = F.cross_entropy(pred, target, size_average=False).data[0]\n",
        "      running_val_loss += loss\n",
        "      running_val_correct += torch.sum(pred_max == target.data)\n",
        "      num_elements += len(target)\n",
        "\n",
        "  print(\"Log loss:\", \"{:.2e}\".format(running_val_loss / num_elements), \"Accuracy:\", round((running_val_correct / num_elements), 4), \"out of\", num_elements, \"\\n\")\n"
      ],
      "execution_count": 0,
      "outputs": []
    },
    {
      "metadata": {
        "id": "a2r4TTa7VPQD",
        "colab_type": "code",
        "colab": {
          "autoexec": {
            "startup": false,
            "wait_interval": 0
          },
          "output_extras": [
            {
              "item_id": 12
            }
          ],
          "base_uri": "https://localhost:8080/",
          "height": 221
        },
        "outputId": "4342be47-e032-4926-8054-f0d017170e9d",
        "executionInfo": {
          "status": "ok",
          "timestamp": 1521494799753,
          "user_tz": 240,
          "elapsed": 27709,
          "user": {
            "displayName": "Callum Gundlach",
            "photoUrl": "//lh4.googleusercontent.com/-ddSUHiKuWXE/AAAAAAAAAAI/AAAAAAAADSU/f_x5SrpmNxM/s50-c-k-no/photo.jpg",
            "userId": "117278917912521040961"
          }
        }
      },
      "cell_type": "code",
      "source": [
        "train(4)"
      ],
      "execution_count": 103,
      "outputs": [
        {
          "output_type": "stream",
          "text": [
            "Train Epoch: 1 [0/41958 (0%)]\tLoss: 0.037445\n",
            "Train Epoch: 1 [12800/41958 (41%)]\tLoss: 0.045798\n",
            "Train Epoch: 1 [25600/41958 (81%)]\tLoss: 0.032083\n",
            "Train Epoch: 2 [0/41958 (0%)]\tLoss: 0.095222\n",
            "Train Epoch: 2 [12800/41958 (41%)]\tLoss: 0.039269\n",
            "Train Epoch: 2 [25600/41958 (81%)]\tLoss: 0.139724\n",
            "Train Epoch: 3 [0/41958 (0%)]\tLoss: 0.069806\n",
            "Train Epoch: 3 [12800/41958 (41%)]\tLoss: 0.018919\n",
            "Train Epoch: 3 [25600/41958 (81%)]\tLoss: 0.025535\n",
            "Train Epoch: 4 [0/41958 (0%)]\tLoss: 0.036725\n",
            "Train Epoch: 4 [12800/41958 (41%)]\tLoss: 0.156102\n",
            "Train Epoch: 4 [25600/41958 (81%)]\tLoss: 0.069008\n"
          ],
          "name": "stdout"
        }
      ]
    },
    {
      "metadata": {
        "id": "-gKWxsElH7VT",
        "colab_type": "code",
        "colab": {
          "autoexec": {
            "startup": false,
            "wait_interval": 0
          },
          "output_extras": [
            {
              "item_id": 3
            }
          ],
          "base_uri": "https://localhost:8080/",
          "height": 119
        },
        "outputId": "a5a1194e-5708-4f23-e585-d18d42da0fd1",
        "executionInfo": {
          "status": "ok",
          "timestamp": 1521495487371,
          "user_tz": 240,
          "elapsed": 3815,
          "user": {
            "displayName": "Callum Gundlach",
            "photoUrl": "//lh4.googleusercontent.com/-ddSUHiKuWXE/AAAAAAAAAAI/AAAAAAAADSU/f_x5SrpmNxM/s50-c-k-no/photo.jpg",
            "userId": "117278917912521040961"
          }
        }
      },
      "cell_type": "code",
      "source": [
        "print(\"Train:\")\n",
        "eval(train_loader)\n",
        "\n",
        "print(\"Validation:\")\n",
        "eval(valid_loader)"
      ],
      "execution_count": 123,
      "outputs": [
        {
          "output_type": "stream",
          "text": [
            "Train:\n",
            "Log loss: 2.80e-03 Accuracy: 0.9992 out of 31468 \n",
            "\n",
            "Validation:\n",
            "Log loss: 2.07e-02 Accuracy: 0.9926 out of 10489 \n",
            "\n"
          ],
          "name": "stdout"
        }
      ]
    },
    {
      "metadata": {
        "id": "RQiU6DhI1P1U",
        "colab_type": "code",
        "colab": {
          "autoexec": {
            "startup": false,
            "wait_interval": 0
          },
          "output_extras": [
            {
              "item_id": 60
            }
          ],
          "base_uri": "https://localhost:8080/",
          "height": 1037
        },
        "outputId": "1631ff3f-2809-4670-eeac-27786f05055b",
        "executionInfo": {
          "status": "ok",
          "timestamp": 1521495271909,
          "user_tz": 240,
          "elapsed": 137162,
          "user": {
            "displayName": "Callum Gundlach",
            "photoUrl": "//lh4.googleusercontent.com/-ddSUHiKuWXE/AAAAAAAAAAI/AAAAAAAADSU/f_x5SrpmNxM/s50-c-k-no/photo.jpg",
            "userId": "117278917912521040961"
          }
        }
      },
      "cell_type": "code",
      "source": [
        "train(20)"
      ],
      "execution_count": 115,
      "outputs": [
        {
          "output_type": "stream",
          "text": [
            "Train Epoch: 1 [0/41958 (0%)]\tLoss: 0.034148\n",
            "Train Epoch: 1 [12800/41958 (41%)]\tLoss: 0.015035\n",
            "Train Epoch: 1 [25600/41958 (81%)]\tLoss: 0.186521\n",
            "Train Epoch: 2 [0/41958 (0%)]\tLoss: 0.013449\n",
            "Train Epoch: 2 [12800/41958 (41%)]\tLoss: 0.015510\n",
            "Train Epoch: 2 [25600/41958 (81%)]\tLoss: 0.000874\n",
            "Train Epoch: 3 [0/41958 (0%)]\tLoss: 0.000279\n",
            "Train Epoch: 3 [12800/41958 (41%)]\tLoss: 0.017295\n",
            "Train Epoch: 3 [25600/41958 (81%)]\tLoss: 0.001557\n",
            "Train Epoch: 4 [0/41958 (0%)]\tLoss: 0.000604\n",
            "Train Epoch: 4 [12800/41958 (41%)]\tLoss: 0.001260\n",
            "Train Epoch: 4 [25600/41958 (81%)]\tLoss: 0.006161\n",
            "Train Epoch: 5 [0/41958 (0%)]\tLoss: 0.004555\n",
            "Train Epoch: 5 [12800/41958 (41%)]\tLoss: 0.001529\n",
            "Train Epoch: 5 [25600/41958 (81%)]\tLoss: 0.001397\n",
            "Train Epoch: 6 [0/41958 (0%)]\tLoss: 0.004782\n",
            "Train Epoch: 6 [12800/41958 (41%)]\tLoss: 0.020972\n",
            "Train Epoch: 6 [25600/41958 (81%)]\tLoss: 0.014602\n",
            "Train Epoch: 7 [0/41958 (0%)]\tLoss: 0.035173\n",
            "Train Epoch: 7 [12800/41958 (41%)]\tLoss: 0.009701\n",
            "Train Epoch: 7 [25600/41958 (81%)]\tLoss: 0.010162\n",
            "Train Epoch: 8 [0/41958 (0%)]\tLoss: 0.001863\n",
            "Train Epoch: 8 [12800/41958 (41%)]\tLoss: 0.000327\n",
            "Train Epoch: 8 [25600/41958 (81%)]\tLoss: 0.051811\n",
            "Train Epoch: 9 [0/41958 (0%)]\tLoss: 0.017056\n",
            "Train Epoch: 9 [12800/41958 (41%)]\tLoss: 0.000494\n",
            "Train Epoch: 9 [25600/41958 (81%)]\tLoss: 0.000116\n",
            "Train Epoch: 10 [0/41958 (0%)]\tLoss: 0.012622\n",
            "Train Epoch: 10 [12800/41958 (41%)]\tLoss: 0.103557\n",
            "Train Epoch: 10 [25600/41958 (81%)]\tLoss: 0.000208\n",
            "Train Epoch: 11 [0/41958 (0%)]\tLoss: 0.002814\n",
            "Train Epoch: 11 [12800/41958 (41%)]\tLoss: 0.001268\n",
            "Train Epoch: 11 [25600/41958 (81%)]\tLoss: 0.003318\n",
            "Train Epoch: 12 [0/41958 (0%)]\tLoss: 0.000893\n",
            "Train Epoch: 12 [12800/41958 (41%)]\tLoss: 0.010966\n",
            "Train Epoch: 12 [25600/41958 (81%)]\tLoss: 0.058549\n",
            "Train Epoch: 13 [0/41958 (0%)]\tLoss: 0.001852\n",
            "Train Epoch: 13 [12800/41958 (41%)]\tLoss: 0.036961\n",
            "Train Epoch: 13 [25600/41958 (81%)]\tLoss: 0.017522\n",
            "Train Epoch: 14 [0/41958 (0%)]\tLoss: 0.006479\n",
            "Train Epoch: 14 [12800/41958 (41%)]\tLoss: 0.009625\n",
            "Train Epoch: 14 [25600/41958 (81%)]\tLoss: 0.000495\n",
            "Train Epoch: 15 [0/41958 (0%)]\tLoss: 0.001095\n",
            "Train Epoch: 15 [12800/41958 (41%)]\tLoss: 0.039952\n",
            "Train Epoch: 15 [25600/41958 (81%)]\tLoss: 0.004815\n",
            "Train Epoch: 16 [0/41958 (0%)]\tLoss: 0.014569\n",
            "Train Epoch: 16 [12800/41958 (41%)]\tLoss: 0.009664\n",
            "Train Epoch: 16 [25600/41958 (81%)]\tLoss: 0.003567\n",
            "Train Epoch: 17 [0/41958 (0%)]\tLoss: 0.035780\n",
            "Train Epoch: 17 [12800/41958 (41%)]\tLoss: 0.000744\n",
            "Train Epoch: 17 [25600/41958 (81%)]\tLoss: 0.000456\n",
            "Train Epoch: 18 [0/41958 (0%)]\tLoss: 0.000697\n",
            "Train Epoch: 18 [12800/41958 (41%)]\tLoss: 0.001209\n",
            "Train Epoch: 18 [25600/41958 (81%)]\tLoss: 0.007030\n",
            "Train Epoch: 19 [0/41958 (0%)]\tLoss: 0.001809\n",
            "Train Epoch: 19 [12800/41958 (41%)]\tLoss: 0.002325\n",
            "Train Epoch: 19 [25600/41958 (81%)]\tLoss: 0.081041\n",
            "Train Epoch: 20 [0/41958 (0%)]\tLoss: 0.022599\n",
            "Train Epoch: 20 [12800/41958 (41%)]\tLoss: 0.003191\n",
            "Train Epoch: 20 [25600/41958 (81%)]\tLoss: 0.010739\n"
          ],
          "name": "stdout"
        }
      ]
    },
    {
      "metadata": {
        "id": "aI7aBi0P1P1g",
        "colab_type": "text"
      },
      "cell_type": "markdown",
      "source": [
        "## Make Predictions"
      ]
    },
    {
      "metadata": {
        "id": "0H16cZOy1P1i",
        "colab_type": "code",
        "colab": {
          "autoexec": {
            "startup": false,
            "wait_interval": 0
          },
          "output_extras": [
            {
              "item_id": 1
            }
          ],
          "base_uri": "https://localhost:8080/",
          "height": 34
        },
        "outputId": "96ba3323-870a-498b-8cb5-a6511c3cf4ab",
        "executionInfo": {
          "status": "ok",
          "timestamp": 1521495298429,
          "user_tz": 240,
          "elapsed": 4296,
          "user": {
            "displayName": "Callum Gundlach",
            "photoUrl": "//lh4.googleusercontent.com/-ddSUHiKuWXE/AAAAAAAAAAI/AAAAAAAADSU/f_x5SrpmNxM/s50-c-k-no/photo.jpg",
            "userId": "117278917912521040961"
          }
        }
      },
      "cell_type": "code",
      "source": [
        "entries = []\n",
        "i = 1\n",
        "for batch_idx, (data, target) in enumerate(test_loader):\n",
        "    data = Variable(data.cuda(), volatile=True)\n",
        "    preds = model(data)\n",
        "    for pred in preds:\n",
        "#         print(pred)\n",
        "        pred = pred.max(0)[1].data[0]\n",
        "        entry = { 'ImageId': i, 'Label': pred }\n",
        "        entries.append(entry)\n",
        "        i += 1\n",
        "    \n",
        "print(entries[0])"
      ],
      "execution_count": 118,
      "outputs": [
        {
          "output_type": "stream",
          "text": [
            "{'ImageId': 1, 'Label': 2}\n"
          ],
          "name": "stdout"
        }
      ]
    },
    {
      "metadata": {
        "id": "W5S9OOG11P1s",
        "colab_type": "code",
        "colab": {
          "autoexec": {
            "startup": false,
            "wait_interval": 0
          },
          "output_extras": [
            {
              "item_id": 1
            }
          ],
          "base_uri": "https://localhost:8080/",
          "height": 204
        },
        "outputId": "40d5b3b1-1338-4c53-9355-245ec133943b",
        "executionInfo": {
          "status": "ok",
          "timestamp": 1521495298938,
          "user_tz": 240,
          "elapsed": 353,
          "user": {
            "displayName": "Callum Gundlach",
            "photoUrl": "//lh4.googleusercontent.com/-ddSUHiKuWXE/AAAAAAAAAAI/AAAAAAAADSU/f_x5SrpmNxM/s50-c-k-no/photo.jpg",
            "userId": "117278917912521040961"
          }
        }
      },
      "cell_type": "code",
      "source": [
        "submit = pd.DataFrame(data=entries)\n",
        "submit.to_csv('mnist_torch_submit.csv', index=False)\n",
        "submit.head()"
      ],
      "execution_count": 119,
      "outputs": [
        {
          "output_type": "execute_result",
          "data": {
            "text/html": [
              "<div>\n",
              "<style scoped>\n",
              "    .dataframe tbody tr th:only-of-type {\n",
              "        vertical-align: middle;\n",
              "    }\n",
              "\n",
              "    .dataframe tbody tr th {\n",
              "        vertical-align: top;\n",
              "    }\n",
              "\n",
              "    .dataframe thead th {\n",
              "        text-align: right;\n",
              "    }\n",
              "</style>\n",
              "<table border=\"1\" class=\"dataframe\">\n",
              "  <thead>\n",
              "    <tr style=\"text-align: right;\">\n",
              "      <th></th>\n",
              "      <th>ImageId</th>\n",
              "      <th>Label</th>\n",
              "    </tr>\n",
              "  </thead>\n",
              "  <tbody>\n",
              "    <tr>\n",
              "      <th>0</th>\n",
              "      <td>1</td>\n",
              "      <td>2</td>\n",
              "    </tr>\n",
              "    <tr>\n",
              "      <th>1</th>\n",
              "      <td>2</td>\n",
              "      <td>0</td>\n",
              "    </tr>\n",
              "    <tr>\n",
              "      <th>2</th>\n",
              "      <td>3</td>\n",
              "      <td>9</td>\n",
              "    </tr>\n",
              "    <tr>\n",
              "      <th>3</th>\n",
              "      <td>4</td>\n",
              "      <td>9</td>\n",
              "    </tr>\n",
              "    <tr>\n",
              "      <th>4</th>\n",
              "      <td>5</td>\n",
              "      <td>3</td>\n",
              "    </tr>\n",
              "  </tbody>\n",
              "</table>\n",
              "</div>"
            ],
            "text/plain": [
              "   ImageId  Label\n",
              "0        1      2\n",
              "1        2      0\n",
              "2        3      9\n",
              "3        4      9\n",
              "4        5      3"
            ]
          },
          "metadata": {
            "tags": []
          },
          "execution_count": 119
        }
      ]
    },
    {
      "metadata": {
        "id": "ma5iK9-K1P10",
        "colab_type": "code",
        "colab": {
          "autoexec": {
            "startup": false,
            "wait_interval": 0
          },
          "output_extras": [
            {
              "item_id": 1
            }
          ],
          "base_uri": "https://localhost:8080/",
          "height": 479
        },
        "outputId": "9e4ebd9f-c3cf-42d4-a67d-53914c62bea1",
        "executionInfo": {
          "status": "ok",
          "timestamp": 1521495313628,
          "user_tz": 240,
          "elapsed": 4669,
          "user": {
            "displayName": "Callum Gundlach",
            "photoUrl": "//lh4.googleusercontent.com/-ddSUHiKuWXE/AAAAAAAAAAI/AAAAAAAADSU/f_x5SrpmNxM/s50-c-k-no/photo.jpg",
            "userId": "117278917912521040961"
          }
        }
      },
      "cell_type": "code",
      "source": [
        "!kaggle competitions submit -c digit-recognizer -f mnist_torch_submit.csv -m \"PyTorch, now with more epochs and rotations!\""
      ],
      "execution_count": 120,
      "outputs": [
        {
          "output_type": "stream",
          "text": [
            "Traceback (most recent call last):\r\n",
            "  File \"/usr/local/bin/kaggle\", line 11, in <module>\r\n",
            "    sys.exit(main())\r\n",
            "  File \"/usr/local/lib/python3.6/dist-packages/kaggle/cli.py\", line 18, in main\r\n",
            "    out = args.func(**command_args)\r\n",
            "  File \"/usr/local/lib/python3.6/dist-packages/kaggle/api/kaggle_api_extended.py\", line 70, in competitionSubmit\r\n",
            "    submitResult = self.competitions_submissions_submit(id = competition, blob_file_tokens = uploadResultToken, submission_description = message)\r\n",
            "  File \"/usr/local/lib/python3.6/dist-packages/kaggle/api/kaggle_api.py\", line 436, in competitions_submissions_submit\r\n",
            "    (data) = self.competitions_submissions_submit_with_http_info(blob_file_tokens, submission_description, id, **kwargs)  # noqa: E501\r\n",
            "  File \"/usr/local/lib/python3.6/dist-packages/kaggle/api/kaggle_api.py\", line 527, in competitions_submissions_submit_with_http_info\r\n",
            "    collection_formats=collection_formats)\r\n",
            "  File \"/usr/local/lib/python3.6/dist-packages/kaggle/api_client.py\", line 318, in call_api\r\n",
            "    _preload_content, _request_timeout)\r\n",
            "  File \"/usr/local/lib/python3.6/dist-packages/kaggle/api_client.py\", line 149, in __call_api\r\n",
            "    _request_timeout=_request_timeout)\r\n",
            "  File \"/usr/local/lib/python3.6/dist-packages/kaggle/api_client.py\", line 361, in request\r\n",
            "    body=body)\r\n",
            "  File \"/usr/local/lib/python3.6/dist-packages/kaggle/rest.py\", line 272, in POST\r\n",
            "    body=body)\r\n",
            "  File \"/usr/local/lib/python3.6/dist-packages/kaggle/rest.py\", line 225, in request\r\n",
            "    raise ApiException(http_resp=r)\r\n",
            "kaggle.rest.ApiException: (403)\r\n",
            "Reason: Forbidden\r\n",
            "HTTP response headers: HTTPHeaderDict({'Cache-Control': 'private', 'Content-Length': '128', 'Content-Type': 'application/json; charset=utf-8', 'X-Kaggle-MillisecondsElapsed': '337', 'X-Kaggle-RequestId': 'e40b8187bab5e72eaff44099230fd8c7', 'X-Kaggle-ApiVersion': '1.1.0', 'X-Frame-Options': 'SAMEORIGIN', 'Set-Cookie': 'ARRAffinity=126209ed1b6b8c052255413350fbd0f2ef95f22abf2fd20c33b55155996cb5bc;Path=/;HttpOnly;Domain=www.kaggle.com', 'Date': 'Mon, 19 Mar 2018 21:35:12 GMT'})\r\n",
            "HTTP response body: {\"code\":403,\"message\":\"Your team has used its submission allowance (5 of 5). This resets at midnight UTC (2.4 hours from now).\"}\r\n",
            "\r\n"
          ],
          "name": "stdout"
        }
      ]
    },
    {
      "metadata": {
        "id": "k8S7PaosAP2U",
        "colab_type": "code",
        "colab": {
          "autoexec": {
            "startup": false,
            "wait_interval": 0
          }
        }
      },
      "cell_type": "code",
      "source": [
        ""
      ],
      "execution_count": 0,
      "outputs": []
    }
  ]
}