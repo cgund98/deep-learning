{
 "cells": [
  {
   "cell_type": "code",
   "execution_count": 1,
   "metadata": {
    "colab": {
     "autoexec": {
      "startup": false,
      "wait_interval": 0
     }
    },
    "colab_type": "code",
    "id": "nYlsg0gmc6Pv"
   },
   "outputs": [],
   "source": [
    "import torch"
   ]
  },
  {
   "cell_type": "code",
   "execution_count": 2,
   "metadata": {
    "colab": {
     "autoexec": {
      "startup": false,
      "wait_interval": 0
     }
    },
    "colab_type": "code",
    "id": "9JZNfW-YegiL"
   },
   "outputs": [],
   "source": [
    "import torch.nn as nn\n",
    "import torch.nn.functional as F\n",
    "import torch.optim as optim\n",
    "from torchvision import datasets, transforms\n",
    "from torch.autograd import Variable"
   ]
  },
  {
   "cell_type": "code",
   "execution_count": 3,
   "metadata": {
    "colab": {
     "autoexec": {
      "startup": false,
      "wait_interval": 0
     },
     "base_uri": "https://localhost:8080/",
     "height": 34,
     "output_extras": [
      {
       "item_id": 1
      }
     ]
    },
    "colab_type": "code",
    "executionInfo": {
     "elapsed": 351,
     "status": "ok",
     "timestamp": 1521223130995,
     "user": {
      "displayName": "Callum Gundlach",
      "photoUrl": "//lh4.googleusercontent.com/-ddSUHiKuWXE/AAAAAAAAAAI/AAAAAAAADSU/f_x5SrpmNxM/s50-c-k-no/photo.jpg",
      "userId": "117278917912521040961"
     },
     "user_tz": 240
    },
    "id": "ciGOuz_rgvoP",
    "outputId": "3f6a0879-f477-4266-c9cb-c82d91aa8800"
   },
   "outputs": [
    {
     "data": {
      "text/plain": [
       "True"
      ]
     },
     "execution_count": 3,
     "metadata": {},
     "output_type": "execute_result"
    }
   ],
   "source": [
    "torch.cuda.is_available()"
   ]
  },
  {
   "cell_type": "markdown",
   "metadata": {},
   "source": [
    "## Import Data"
   ]
  },
  {
   "cell_type": "code",
   "execution_count": 4,
   "metadata": {},
   "outputs": [],
   "source": [
    "import random\n",
    "from math import floor\n",
    "\n",
    "def train_valid_split(dataset, test_size = 0.25, shuffle = False, random_seed = 0):\n",
    "    \"\"\" Return a list of splitted indices from a DataSet.\n",
    "    Indices can be used with DataLoader to build a train and validation set.\n",
    "    \n",
    "    Arguments:\n",
    "        A Dataset\n",
    "        A test_size, as a float between 0 and 1 (percentage split) or as an int (fixed number split)\n",
    "        Shuffling True or False\n",
    "        Random seed\n",
    "    \"\"\"\n",
    "    length = dataset.__len__()\n",
    "    indices = list(range(1,length))\n",
    "    \n",
    "    if shuffle == True:\n",
    "        random.seed(random_seed)\n",
    "        random.shuffle(indices)\n",
    "    \n",
    "    if type(test_size) is float:\n",
    "        split = floor(test_size * length)\n",
    "    elif type(test_size) is int:\n",
    "        split = test_size\n",
    "    else:\n",
    "        raise ValueError('%s should be an int or a float' % str)\n",
    "    return indices[split:], indices[:split]"
   ]
  },
  {
   "cell_type": "code",
   "execution_count": 5,
   "metadata": {
    "colab": {
     "autoexec": {
      "startup": false,
      "wait_interval": 0
     },
     "base_uri": "https://localhost:8080/",
     "height": 221,
     "output_extras": [
      {
       "item_id": 7
      }
     ]
    },
    "colab_type": "code",
    "executionInfo": {
     "elapsed": 56803,
     "status": "ok",
     "timestamp": 1521223189788,
     "user": {
      "displayName": "Callum Gundlach",
      "photoUrl": "//lh4.googleusercontent.com/-ddSUHiKuWXE/AAAAAAAAAAI/AAAAAAAADSU/f_x5SrpmNxM/s50-c-k-no/photo.jpg",
      "userId": "117278917912521040961"
     },
     "user_tz": 240
    },
    "id": "H-N72DVDdObm",
    "outputId": "fe6c136d-965c-4e70-faa4-007b2c831cbf"
   },
   "outputs": [],
   "source": [
    "dtype = torch.cuda.FloatTensor\n",
    "bs = 64\n",
    "\n",
    "transformations = transforms.Compose([\n",
    "                      transforms.ToTensor(),\n",
    "                      transforms.Normalize((0.1307), (0.3081),)])\n",
    "\n",
    "train_transforms = transform=transforms.Compose([\n",
    "                       transforms.ToTensor(),\n",
    "                       transforms.Normalize((0.1307,), (0.3081,))\n",
    "                   ])\n",
    "\n",
    "train_data = datasets.MNIST('../data/mnist', train=True, download=True,\n",
    "                  transform=train_transforms)\n",
    "\n",
    "valid_data = datasets.MNIST('../data/mnist', train=True, download=True,\n",
    "                  transform=train_transforms)\n",
    "\n",
    "test_data = datasets.MNIST('../data/mnist', train=False, download=True,\n",
    "                  transform=train_transforms)"
   ]
  },
  {
   "cell_type": "code",
   "execution_count": 6,
   "metadata": {},
   "outputs": [],
   "source": [
    "from torch.utils.data.sampler import SubsetRandomSampler\n",
    "\n",
    "train_idx, valid_idx = train_valid_split(train_data, shuffle=True)\n",
    "train_sampler = SubsetRandomSampler(train_idx)\n",
    "valid_sampler = SubsetRandomSampler(valid_idx)"
   ]
  },
  {
   "cell_type": "code",
   "execution_count": 7,
   "metadata": {},
   "outputs": [],
   "source": [
    "kwargs = {'num_workers': 1, 'pin_memory': True}\n",
    "# train_loader = torch.utils.data.DataLoader(train_dataset, \n",
    "#                                         batch_size=bs, sampler=train_sampler, **kwargs)\n",
    "train_loader = torch.utils.data.DataLoader(train_data,\n",
    "        batch_size=bs, sampler=train_sampler, **kwargs)\n",
    "\n",
    "valid_loader = torch.utils.data.DataLoader(valid_data,\n",
    "        batch_size=bs, sampler=valid_sampler, **kwargs)\n",
    "\n",
    "test_loader = torch.utils.data.DataLoader(train_data,\n",
    "        batch_size=bs, **kwargs)"
   ]
  },
  {
   "cell_type": "markdown",
   "metadata": {},
   "source": [
    "## Set up Model"
   ]
  },
  {
   "cell_type": "code",
   "execution_count": 8,
   "metadata": {
    "colab": {
     "autoexec": {
      "startup": false,
      "wait_interval": 0
     },
     "base_uri": "https://localhost:8080/",
     "height": 130,
     "output_extras": [
      {
       "item_id": 1
      }
     ]
    },
    "colab_type": "code",
    "executionInfo": {
     "elapsed": 673,
     "status": "error",
     "timestamp": 1521223756735,
     "user": {
      "displayName": "Callum Gundlach",
      "photoUrl": "//lh4.googleusercontent.com/-ddSUHiKuWXE/AAAAAAAAAAI/AAAAAAAADSU/f_x5SrpmNxM/s50-c-k-no/photo.jpg",
      "userId": "117278917912521040961"
     },
     "user_tz": 240
    },
    "id": "_C2AVufcgRxb",
    "outputId": "4d198f42-aa2f-44d4-b7b0-7be14104076a"
   },
   "outputs": [],
   "source": [
    "class Flatten(nn.Module):\n",
    "    def forward(self, x):\n",
    "        N, C, H, W = x.size()\n",
    "        return x.view(-1, 320)\n",
    "\n",
    "class SimpleConv(nn.Module):\n",
    "    def __init__(self):\n",
    "        super(SimpleConv, self).__init__()\n",
    "        self.conv1 = nn.Conv2d(1, 32, kernel_size=3)\n",
    "        self.conv1_bn = nn.BatchNorm2d(32)\n",
    "        self.conv2 = nn.Conv2d(32, 32, kernel_size=3)\n",
    "        self.conv2_bn = nn.BatchNorm2d(32)\n",
    "        self.conv3 = nn.Conv2d(32, 64, kernel_size=3)\n",
    "        self.conv3_bn = nn.BatchNorm2d(64)\n",
    "        self.conv4 = nn.Conv2d(64, 64, kernel_size=3)\n",
    "        self.conv4_bn = nn.BatchNorm2d(64)\n",
    "        self.conv2_drop = nn.Dropout2d()\n",
    "        self.dense1 = nn.Linear(4096, 128)\n",
    "        self.dense1_bn = nn.BatchNorm1d(128)\n",
    "        self.dense2 = nn.Linear(128, 10)\n",
    "    \n",
    "    def forward(self, x):\n",
    "        x = F.relu(self.conv1_bn(self.conv1(x)))\n",
    "        x = F.relu(F.max_pool2d(self.conv2_bn(self.conv2(x)), 2))\n",
    "        x = F.relu(self.conv3_bn(self.conv3(x)))\n",
    "        x = F.relu(self.conv4_bn(self.conv4(x)))\n",
    "        x = x.view(x.size(0), -1)\n",
    "        x = F.relu(self.dense1_bn(self.dense1(x)))\n",
    "        x = self.dense2(x)\n",
    "#         print(x.size())\n",
    "        return F.log_softmax(x, dim=1)\n",
    "    \n",
    "#   def train(self, x, y, optimizer, epochs)"
   ]
  },
  {
   "cell_type": "code",
   "execution_count": 9,
   "metadata": {},
   "outputs": [],
   "source": [
    "class Net(nn.Module):\n",
    "    def __init__(self):\n",
    "        super(Net, self).__init__()\n",
    "        self.conv1 = nn.Conv2d(1, 10, kernel_size=5)\n",
    "        self.conv2 = nn.Conv2d(10, 20, kernel_size=5)\n",
    "        self.conv2_drop = nn.Dropout2d()\n",
    "        self.fc1 = nn.Linear(320, 50)\n",
    "        self.fc2 = nn.Linear(50, 10)\n",
    "\n",
    "    def forward(self, x):\n",
    "        x = F.relu(F.max_pool2d(self.conv1(x), 2))\n",
    "        x = F.relu(F.max_pool2d(self.conv2_drop(self.conv2(x)), 2))\n",
    "        x = x.view(-1, 320)\n",
    "        x = F.relu(self.fc1(x))\n",
    "        x = F.dropout(x, training=self.training)\n",
    "        x = self.fc2(x)\n",
    "        return F.log_softmax(x, dim=1)\n",
    "\n"
   ]
  },
  {
   "cell_type": "code",
   "execution_count": 10,
   "metadata": {
    "colab": {
     "autoexec": {
      "startup": false,
      "wait_interval": 0
     },
     "base_uri": "https://localhost:8080/",
     "height": 170,
     "output_extras": [
      {
       "item_id": 1
      }
     ]
    },
    "colab_type": "code",
    "executionInfo": {
     "elapsed": 391,
     "status": "ok",
     "timestamp": 1521223727146,
     "user": {
      "displayName": "Callum Gundlach",
      "photoUrl": "//lh4.googleusercontent.com/-ddSUHiKuWXE/AAAAAAAAAAI/AAAAAAAADSU/f_x5SrpmNxM/s50-c-k-no/photo.jpg",
      "userId": "117278917912521040961"
     },
     "user_tz": 240
    },
    "id": "JXZN42JwmImd",
    "outputId": "efcbe18d-0dc3-4c12-cd96-c227968f5dac"
   },
   "outputs": [
    {
     "data": {
      "text/plain": [
       "SimpleConv(\n",
       "  (conv1): Conv2d(1, 32, kernel_size=(3, 3), stride=(1, 1))\n",
       "  (conv1_bn): BatchNorm2d(32, eps=1e-05, momentum=0.1, affine=True)\n",
       "  (conv2): Conv2d(32, 32, kernel_size=(3, 3), stride=(1, 1))\n",
       "  (conv2_bn): BatchNorm2d(32, eps=1e-05, momentum=0.1, affine=True)\n",
       "  (conv3): Conv2d(32, 64, kernel_size=(3, 3), stride=(1, 1))\n",
       "  (conv3_bn): BatchNorm2d(64, eps=1e-05, momentum=0.1, affine=True)\n",
       "  (conv4): Conv2d(64, 64, kernel_size=(3, 3), stride=(1, 1))\n",
       "  (conv4_bn): BatchNorm2d(64, eps=1e-05, momentum=0.1, affine=True)\n",
       "  (conv2_drop): Dropout2d(p=0.5)\n",
       "  (dense1): Linear(in_features=4096, out_features=128, bias=True)\n",
       "  (dense1_bn): BatchNorm1d(128, eps=1e-05, momentum=0.1, affine=True)\n",
       "  (dense2): Linear(in_features=128, out_features=10, bias=True)\n",
       ")"
      ]
     },
     "execution_count": 10,
     "metadata": {},
     "output_type": "execute_result"
    }
   ],
   "source": [
    "# model = simpleConv()\n",
    "model = SimpleConv()\n",
    "model.cuda()"
   ]
  },
  {
   "cell_type": "code",
   "execution_count": 24,
   "metadata": {
    "colab": {
     "autoexec": {
      "startup": false,
      "wait_interval": 0
     }
    },
    "colab_type": "code",
    "id": "gPPgwoSwmNJc"
   },
   "outputs": [],
   "source": [
    "optimizer = optim.Adam(model.parameters(), lr=2e-4)\n",
    "\n",
    "def train(epochs=1):\n",
    "    for epoch in range(epochs):\n",
    "        model.train(True)\n",
    "        for batch_idx, (data, target) in enumerate(train_loader):\n",
    "            data = Variable(data.cuda())\n",
    "            target = Variable(target.cuda())\n",
    "            optimizer.zero_grad()\n",
    "            pred = model(data)\n",
    "            loss = F.nll_loss(pred, target)\n",
    "            loss.backward()\n",
    "            optimizer.step()\n",
    "\n",
    "            log_interval = 100\n",
    "            if batch_idx % log_interval == 0:\n",
    "                print('Train Epoch: {} [{}/{} ({:.0f}%)]\\tLoss: {:.6f}'.format(\n",
    "                    epoch+1, batch_idx * len(data), len(train_loader.dataset),\n",
    "                    100. * batch_idx / len(train_loader), loss.data[0]))\n",
    "        model.train(False)\n",
    "        running_loss = 0\n",
    "        running_correct = 0\n",
    "        for batch_idx, (data, target) in enumerate(valid_loader):\n",
    "            data = Variable(data.cuda())\n",
    "            target = Variable(target.cuda())\n",
    "            pred = model(data)\n",
    "            _, pred_max = torch.max(pred.data, 1)\n",
    "\n",
    "            loss = F.nll_loss(pred, target)\n",
    "            running_loss += loss.data[0]\n",
    "            running_correct += torch.sum(pred_max == target.data)\n",
    "    \n",
    "        print(\"\\nEpoch\", epoch+1, \"results:\")\n",
    "        print(\"Val log loss:\", running_loss / len(valid_idx))\n",
    "        print(\"Val Accuracy:\", running_correct / len(valid_idx), \"\\n\")\n",
    "        model.train(True)"
   ]
  },
  {
   "cell_type": "code",
   "execution_count": 25,
   "metadata": {
    "colab": {
     "autoexec": {
      "startup": false,
      "wait_interval": 0
     },
     "base_uri": "https://localhost:8080/",
     "height": 521,
     "output_extras": [
      {
       "item_id": 1
      }
     ]
    },
    "colab_type": "code",
    "executionInfo": {
     "elapsed": 603,
     "status": "error",
     "timestamp": 1521224375416,
     "user": {
      "displayName": "Callum Gundlach",
      "photoUrl": "//lh4.googleusercontent.com/-ddSUHiKuWXE/AAAAAAAAAAI/AAAAAAAADSU/f_x5SrpmNxM/s50-c-k-no/photo.jpg",
      "userId": "117278917912521040961"
     },
     "user_tz": 240
    },
    "id": "a2r4TTa7VPQD",
    "outputId": "d9a4c693-0d40-4b21-fc91-85f8a08aee50",
    "scrolled": false
   },
   "outputs": [
    {
     "name": "stdout",
     "output_type": "stream",
     "text": [
      "Train Epoch: 1 [0/60000 (0%)]\tLoss: 0.005441\n",
      "Train Epoch: 1 [6400/60000 (14%)]\tLoss: 0.001173\n",
      "Train Epoch: 1 [12800/60000 (28%)]\tLoss: 0.000320\n",
      "Train Epoch: 1 [19200/60000 (43%)]\tLoss: 0.014402\n",
      "Train Epoch: 1 [25600/60000 (57%)]\tLoss: 0.002079\n",
      "Train Epoch: 1 [32000/60000 (71%)]\tLoss: 0.011166\n",
      "Train Epoch: 1 [38400/60000 (85%)]\tLoss: 0.006678\n",
      "Train Epoch: 1 [44800/60000 (99%)]\tLoss: 0.000486\n",
      "\n",
      "Epoch 1 results:\n",
      "Val log loss: 0.0004989427044987679\n",
      "Val Accuracy: 0.9916666666666667 \n",
      "\n",
      "Train Epoch: 2 [0/60000 (0%)]\tLoss: 0.001231\n",
      "Train Epoch: 2 [6400/60000 (14%)]\tLoss: 0.000273\n",
      "Train Epoch: 2 [12800/60000 (28%)]\tLoss: 0.007333\n",
      "Train Epoch: 2 [19200/60000 (43%)]\tLoss: 0.003560\n",
      "Train Epoch: 2 [25600/60000 (57%)]\tLoss: 0.012552\n",
      "Train Epoch: 2 [32000/60000 (71%)]\tLoss: 0.000320\n",
      "Train Epoch: 2 [38400/60000 (85%)]\tLoss: 0.002084\n",
      "Train Epoch: 2 [44800/60000 (99%)]\tLoss: 0.000204\n",
      "\n",
      "Epoch 2 results:\n",
      "Val log loss: 0.0004500547024227368\n",
      "Val Accuracy: 0.9922666666666666 \n",
      "\n"
     ]
    }
   ],
   "source": [
    "train(2)"
   ]
  },
  {
   "cell_type": "code",
   "execution_count": null,
   "metadata": {},
   "outputs": [],
   "source": []
  }
 ],
 "metadata": {
  "accelerator": "GPU",
  "colab": {
   "collapsed_sections": [],
   "default_view": {},
   "name": "mnist_torch.ipynb",
   "provenance": [],
   "version": "0.3.2",
   "views": {}
  },
  "kernelspec": {
   "display_name": "Python 3",
   "language": "python",
   "name": "python3"
  },
  "language_info": {
   "codemirror_mode": {
    "name": "ipython",
    "version": 3
   },
   "file_extension": ".py",
   "mimetype": "text/x-python",
   "name": "python",
   "nbconvert_exporter": "python",
   "pygments_lexer": "ipython3",
   "version": "3.6.4"
  }
 },
 "nbformat": 4,
 "nbformat_minor": 1
}
